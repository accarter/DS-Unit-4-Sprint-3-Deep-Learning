{
  "nbformat": 4,
  "nbformat_minor": 0,
  "metadata": {
    "colab": {
      "name": "LS_DS_432_Convolution_Neural_Networks_Assignment.ipynb",
      "provenance": []
    },
    "kernelspec": {
      "display_name": "Python 3",
      "language": "python",
      "name": "python3"
    },
    "language_info": {
      "codemirror_mode": {
        "name": "ipython",
        "version": 3
      },
      "file_extension": ".py",
      "mimetype": "text/x-python",
      "name": "python",
      "nbconvert_exporter": "python",
      "pygments_lexer": "ipython3",
      "version": "3.7.9"
    },
    "nteract": {
      "version": "0.23.1"
    },
    "accelerator": "GPU"
  },
  "cells": [
    {
      "cell_type": "markdown",
      "metadata": {
        "id": "fc4yMj7mtCAZ"
      },
      "source": [
        "<img align=\"left\" src=\"https://lever-client-logos.s3.amazonaws.com/864372b1-534c-480e-acd5-9711f850815c-1524247202159.png\" width=200>\n",
        "<br></br>\n",
        "<br></br>\n",
        "\n",
        "## *Data Science Unit 4 Sprint 3 Assignment 2*\n",
        "# Convolutional Neural Networks (CNNs)"
      ]
    },
    {
      "cell_type": "markdown",
      "metadata": {
        "id": "0lfZdD_cp1t5"
      },
      "source": [
        "# Assignment\n",
        "\n",
        "- <a href=\"#p1\">Part 1:</a> Pre-Trained Model\n",
        "- <a href=\"#p2\">Part 2:</a> Custom CNN Model\n",
        "- <a href=\"#p3\">Part 3:</a> CNN with Data Augmentation\n",
        "\n",
        "\n",
        "You will apply three different CNN models to a binary image classification model using Keras. Classify images of Mountains (`./data/train/mountain/*`) and images of forests (`./data/train/forest/*`). Treat mountains as the positive class (1) and the forest images as the negative (zero). \n",
        "\n",
        "|Mountain (+)|Forest (-)|\n",
        "|---|---|\n",
        "|![](https://github.com/LambdaSchool/DS-Unit-4-Sprint-3-Deep-Learning/blob/main/module2-convolutional-neural-networks/data/train/mountain/art1131.jpg?raw=1)|![](https://github.com/LambdaSchool/DS-Unit-4-Sprint-3-Deep-Learning/blob/main/module2-convolutional-neural-networks/data/validation/forest/cdmc317.jpg?raw=1)|\n",
        "\n",
        "The problem is relatively difficult given that the sample is tiny: there are about 350 observations per class. This sample size might be something that you can expect with prototyping an image classification problem/solution at work. Get accustomed to evaluating several different possible models."
      ]
    },
    {
      "cell_type": "markdown",
      "metadata": {
        "id": "1eawBP-otCAb"
      },
      "source": [
        "# Pre - Trained Model\n",
        "<a id=\"p1\"></a>\n",
        "\n",
        "Load a pretrained network from Keras, [ResNet50](https://tfhub.dev/google/imagenet/resnet_v1_50/classification/1) - a 50 layer deep network trained to recognize [1000 objects](https://storage.googleapis.com/download.tensorflow.org/data/ImageNetLabels.txt). Starting usage:\n",
        "\n",
        "```python\n",
        "import numpy as np\n",
        "\n",
        "from tensorflow.keras.applications.resnet50 import ResNet50\n",
        "from tensorflow.keras.preprocessing import image\n",
        "from tensorflow.keras.applications.resnet50 import preprocess_input, decode_predictions\n",
        "\n",
        "from tensorflow.keras.layers import Dense, GlobalAveragePooling2D\n",
        "from tensorflow.keras.models import Model # This is the functional API\n",
        "\n",
        "resnet = ResNet50(weights='imagenet', include_top=False)\n",
        "\n",
        "```\n",
        "\n",
        "The `include_top` parameter in `ResNet50` will remove the full connected layers from the ResNet model. The next step is to turn off the training of the ResNet layers. We want to use the learned parameters without updating them in future training passes. \n",
        "\n",
        "```python\n",
        "for layer in resnet.layers:\n",
        "    layer.trainable = False\n",
        "```\n",
        "\n",
        "Using the Keras functional API, we will need to add additional full connected layers to our model. When we removed the top layers, we removed all preivous fully connected layers. In other words, we kept only the feature processing portions of our network. You can expert with additional layers beyond what's listed here. The `GlobalAveragePooling2D` layer functions as a really fancy flatten function by taking the average of each of the last convolutional layer outputs (which is two dimensional still). \n",
        "\n",
        "```python\n",
        "x = resnet.output\n",
        "x = GlobalAveragePooling2D()(x) # This layer is a really fancy flatten\n",
        "x = Dense(1024, activation='relu')(x)\n",
        "predictions = Dense(1, activation='sigmoid')(x)\n",
        "model = Model(resnet.input, predictions)\n",
        "```\n",
        "\n",
        "Your assignment is to apply the transfer learning above to classify images of Mountains (`./data/train/mountain/*`) and images of forests (`./data/train/forest/*`). Treat mountains as the positive class (1) and the forest images as the negative (zero). \n",
        "\n",
        "Steps to complete assignment: \n",
        "1. Load in Image Data into numpy arrays (`X`) \n",
        "2. Create a `y` for the labels\n",
        "3. Train your model with pre-trained layers from resnet\n",
        "4. Report your model's accuracy"
      ]
    },
    {
      "cell_type": "code",
      "metadata": {
        "id": "1IkgyYSXOAl6"
      },
      "source": [
        "import numpy as np\n",
        "\n",
        "from tensorflow.keras.applications.resnet50 import ResNet50\n",
        "from tensorflow.keras.preprocessing import image\n",
        "from tensorflow.keras.applications.resnet50 import preprocess_input, decode_predictions\n",
        "\n",
        "from tensorflow.keras.layers import Dense, GlobalAveragePooling2D\n",
        "from tensorflow.keras.models import Model # This is the functional API\n",
        "\n",
        "resnet = ResNet50(weights='imagenet', include_top=False)"
      ],
      "execution_count": 1,
      "outputs": []
    },
    {
      "cell_type": "code",
      "metadata": {
        "id": "Krs0aiaFOAl6"
      },
      "source": [
        "for layer in resnet.layers:\n",
        "    layer.trainable = False"
      ],
      "execution_count": 2,
      "outputs": []
    },
    {
      "cell_type": "code",
      "metadata": {
        "id": "ppEbTB92OAl6"
      },
      "source": [
        "x = resnet.output\n",
        "x = GlobalAveragePooling2D()(x) # This layer is a really fancy flatten\n",
        "x = Dense(1024, activation='relu')(x)\n",
        "predictions = Dense(1, activation='sigmoid')(x)\n",
        "model = Model(resnet.input, predictions)"
      ],
      "execution_count": 3,
      "outputs": []
    },
    {
      "cell_type": "markdown",
      "metadata": {
        "id": "CLdGdXCatCAb"
      },
      "source": [
        "## Load in Data\n",
        "\n",
        "This surprisingly more difficult than it seems, because you are working with directories of images instead of a single file. This boiler plate will help you download a zipped version of the directory of images. The directory is organized into \"train\" and \"validation\" which you can use inside an `ImageGenerator` class to stream batches of images thru your model.  \n"
      ]
    },
    {
      "cell_type": "markdown",
      "metadata": {
        "id": "moRVuHUqtCAc"
      },
      "source": [
        "### Download & Summarize the Data\n",
        "\n",
        "This step is completed for you. Just run the cells and review the results. "
      ]
    },
    {
      "cell_type": "code",
      "metadata": {
        "id": "AR66H8o9tCAc"
      },
      "source": [
        "import tensorflow as tf\n",
        "import os\n",
        "\n",
        "_URL = 'https://github.com/LambdaSchool/DS-Unit-4-Sprint-3-Deep-Learning/blob/main/module2-convolutional-neural-networks/data.zip?raw=true'\n",
        "\n",
        "path_to_zip = tf.keras.utils.get_file('./data.zip', origin=_URL, extract=True)\n",
        "PATH = os.path.join(os.path.dirname(path_to_zip), 'data')"
      ],
      "execution_count": 4,
      "outputs": []
    },
    {
      "cell_type": "code",
      "metadata": {
        "id": "MNFsIu_KtCAg"
      },
      "source": [
        "train_dir = os.path.join(PATH, 'train')\n",
        "validation_dir = os.path.join(PATH, 'validation')"
      ],
      "execution_count": 5,
      "outputs": []
    },
    {
      "cell_type": "code",
      "metadata": {
        "id": "OsI9BQLotCAj"
      },
      "source": [
        "train_mountain_dir = os.path.join(train_dir, 'mountain')  # directory with our training cat pictures\n",
        "train_forest_dir = os.path.join(train_dir, 'forest')  # directory with our training dog pictures\n",
        "validation_mountain_dir = os.path.join(validation_dir, 'mountain')  # directory with our validation cat pictures\n",
        "validation_forest_dir = os.path.join(validation_dir, 'forest')  # directory with our validation dog pictures"
      ],
      "execution_count": 6,
      "outputs": []
    },
    {
      "cell_type": "code",
      "metadata": {
        "id": "NUs1e5-XtCAl"
      },
      "source": [
        "num_mountain_tr = len(os.listdir(train_mountain_dir))\n",
        "num_forest_tr = len(os.listdir(train_forest_dir))\n",
        "\n",
        "num_mountain_val = len(os.listdir(validation_mountain_dir))\n",
        "num_forest_val = len(os.listdir(validation_forest_dir))\n",
        "\n",
        "total_train = num_mountain_tr + num_forest_tr\n",
        "total_val = num_mountain_val + num_forest_val"
      ],
      "execution_count": 7,
      "outputs": []
    },
    {
      "cell_type": "code",
      "metadata": {
        "colab": {
          "base_uri": "https://localhost:8080/"
        },
        "id": "ZmklbgSMtCAn",
        "outputId": "26e88c68-60e5-4f58-b60b-e4daf4ed56f0"
      },
      "source": [
        "print('total training mountain images:', num_mountain_tr)\n",
        "print('total training forest images:', num_forest_tr)\n",
        "\n",
        "print('total validation mountain images:', num_mountain_val)\n",
        "print('total validation forest images:', num_forest_val)\n",
        "print(\"--\")\n",
        "print(\"Total training images:\", total_train)\n",
        "print(\"Total validation images:\", total_val)"
      ],
      "execution_count": 8,
      "outputs": [
        {
          "output_type": "stream",
          "text": [
            "total training mountain images: 254\n",
            "total training forest images: 270\n",
            "total validation mountain images: 125\n",
            "total validation forest images: 62\n",
            "--\n",
            "Total training images: 524\n",
            "Total validation images: 187\n"
          ],
          "name": "stdout"
        }
      ]
    },
    {
      "cell_type": "markdown",
      "metadata": {
        "id": "dQ4ag4ultCAq"
      },
      "source": [
        "### Keras `ImageGenerator` to Process the Data\n",
        "\n",
        "This step is completed for you, but please review the code. The `ImageGenerator` class reads in batches of data from a directory and pass them to the model one batch at a time. Just like large text files, this method is advantageous, because it stifles the need to load a bunch of images into memory. \n",
        "\n",
        "Check out the documentation for this class method: [Keras `ImageGenerator` Class](https://keras.io/preprocessing/image/#imagedatagenerator-class). You'll expand it's use in the third assignment objective."
      ]
    },
    {
      "cell_type": "code",
      "metadata": {
        "id": "67i9IW49tCAq"
      },
      "source": [
        "batch_size = 16\n",
        "epochs = 50\n",
        "IMG_HEIGHT = 224\n",
        "IMG_WIDTH = 224"
      ],
      "execution_count": 9,
      "outputs": []
    },
    {
      "cell_type": "code",
      "metadata": {
        "id": "B1wNKMo1tCAt"
      },
      "source": [
        "from tensorflow.keras.preprocessing.image import ImageDataGenerator\n",
        "\n",
        "train_image_generator = ImageDataGenerator(rescale=1./255) # Generator for our training data\n",
        "validation_image_generator = ImageDataGenerator(rescale=1./255) # Generator for our validation data"
      ],
      "execution_count": 10,
      "outputs": []
    },
    {
      "cell_type": "code",
      "metadata": {
        "colab": {
          "base_uri": "https://localhost:8080/"
        },
        "id": "ndsuM4L9tCAv",
        "outputId": "698bb88c-e801-4148-e5af-73b0b18a4334"
      },
      "source": [
        "train_data_gen = train_image_generator.flow_from_directory(batch_size=batch_size,\n",
        "                                                           directory=train_dir,\n",
        "                                                           shuffle=True,\n",
        "                                                           target_size=(IMG_HEIGHT, IMG_WIDTH),\n",
        "                                                           class_mode='binary')"
      ],
      "execution_count": 11,
      "outputs": [
        {
          "output_type": "stream",
          "text": [
            "Found 533 images belonging to 2 classes.\n"
          ],
          "name": "stdout"
        }
      ]
    },
    {
      "cell_type": "code",
      "metadata": {
        "colab": {
          "base_uri": "https://localhost:8080/"
        },
        "id": "9kxlk3optCAy",
        "outputId": "295df171-9fab-4ef6-ce7f-ccda318ed3b8"
      },
      "source": [
        "val_data_gen = validation_image_generator.flow_from_directory(batch_size=batch_size,\n",
        "                                                              directory=validation_dir,\n",
        "                                                              target_size=(IMG_HEIGHT, IMG_WIDTH),\n",
        "                                                              class_mode='binary')"
      ],
      "execution_count": 12,
      "outputs": [
        {
          "output_type": "stream",
          "text": [
            "Found 195 images belonging to 2 classes.\n"
          ],
          "name": "stdout"
        }
      ]
    },
    {
      "cell_type": "markdown",
      "metadata": {
        "id": "2l7ue6NutCA0"
      },
      "source": [
        "## Instatiate Model"
      ]
    },
    {
      "cell_type": "code",
      "metadata": {
        "id": "fuKLYYlGOAl8",
        "outputId": "8bdc9d3d-ddb3-4728-f9f8-706058402995",
        "colab": {
          "base_uri": "https://localhost:8080/"
        }
      },
      "source": [
        "model.compile(loss='sparse_categorical_crossentropy',\n",
        "              optimizer='adam',\n",
        "              metrics=['accuracy'])\n",
        "\n",
        "model.summary()"
      ],
      "execution_count": 37,
      "outputs": [
        {
          "output_type": "stream",
          "text": [
            "Model: \"sequential_4\"\n",
            "_________________________________________________________________\n",
            "Layer (type)                 Output Shape              Param #   \n",
            "=================================================================\n",
            "conv2d_8 (Conv2D)            (None, 222, 222, 224)     6272      \n",
            "_________________________________________________________________\n",
            "max_pooling2d_8 (MaxPooling2 (None, 111, 111, 224)     0         \n",
            "_________________________________________________________________\n",
            "conv2d_9 (Conv2D)            (None, 109, 109, 64)      129088    \n",
            "_________________________________________________________________\n",
            "max_pooling2d_9 (MaxPooling2 (None, 54, 54, 64)        0         \n",
            "_________________________________________________________________\n",
            "flatten_4 (Flatten)          (None, 186624)            0         \n",
            "_________________________________________________________________\n",
            "dense_10 (Dense)             (None, 64)                11944000  \n",
            "_________________________________________________________________\n",
            "dense_11 (Dense)             (None, 2)                 130       \n",
            "=================================================================\n",
            "Total params: 12,079,490\n",
            "Trainable params: 12,079,490\n",
            "Non-trainable params: 0\n",
            "_________________________________________________________________\n"
          ],
          "name": "stdout"
        }
      ]
    },
    {
      "cell_type": "markdown",
      "metadata": {
        "id": "BVPBWYG7tCA2"
      },
      "source": [
        "## Fit Model"
      ]
    },
    {
      "cell_type": "code",
      "metadata": {
        "id": "Z2ZoSq6UOAl8",
        "outputId": "b16f2361-65cd-4612-ee6e-bc373cfb3bb6",
        "colab": {
          "base_uri": "https://localhost:8080/"
        }
      },
      "source": [
        "history = model.fit(\n",
        "    train_data_gen,\n",
        "    steps_per_epoch=total_train // batch_size,\n",
        "    epochs=epochs,\n",
        "    validation_data=val_data_gen,\n",
        "    validation_steps=total_val // batch_size\n",
        ")"
      ],
      "execution_count": 38,
      "outputs": [
        {
          "output_type": "stream",
          "text": [
            "Epoch 1/50\n",
            " 2/32 [>.............................] - ETA: 2s - loss: 0.7979 - accuracy: 0.9062    WARNING:tensorflow:Callbacks method `on_train_batch_end` is slow compared to the batch time (batch time: 0.0273s vs `on_train_batch_end` time: 0.0675s). Check your callbacks.\n",
            "32/32 [==============================] - 3s 98ms/step - loss: 0.1810 - accuracy: 0.9621 - val_loss: 0.3541 - val_accuracy: 0.9034\n",
            "Epoch 2/50\n",
            "32/32 [==============================] - 3s 93ms/step - loss: 0.0169 - accuracy: 0.9940 - val_loss: 0.6724 - val_accuracy: 0.9091\n",
            "Epoch 3/50\n",
            "32/32 [==============================] - 3s 93ms/step - loss: 0.0016 - accuracy: 1.0000 - val_loss: 0.7968 - val_accuracy: 0.9091\n",
            "Epoch 4/50\n",
            "32/32 [==============================] - 3s 95ms/step - loss: 3.4430e-04 - accuracy: 1.0000 - val_loss: 0.7095 - val_accuracy: 0.9148\n",
            "Epoch 5/50\n",
            "32/32 [==============================] - 3s 93ms/step - loss: 1.3167e-04 - accuracy: 1.0000 - val_loss: 0.6936 - val_accuracy: 0.9205\n",
            "Epoch 6/50\n",
            "32/32 [==============================] - 3s 94ms/step - loss: 7.4313e-05 - accuracy: 1.0000 - val_loss: 0.7211 - val_accuracy: 0.9148\n",
            "Epoch 7/50\n",
            "32/32 [==============================] - 3s 93ms/step - loss: 6.6174e-05 - accuracy: 1.0000 - val_loss: 0.5147 - val_accuracy: 0.9489\n",
            "Epoch 8/50\n",
            "32/32 [==============================] - 3s 94ms/step - loss: 4.8079e-05 - accuracy: 1.0000 - val_loss: 0.6100 - val_accuracy: 0.9261\n",
            "Epoch 9/50\n",
            "32/32 [==============================] - 3s 93ms/step - loss: 2.8575e-05 - accuracy: 1.0000 - val_loss: 0.6495 - val_accuracy: 0.9261\n",
            "Epoch 10/50\n",
            "32/32 [==============================] - 3s 93ms/step - loss: 2.2228e-05 - accuracy: 1.0000 - val_loss: 0.5815 - val_accuracy: 0.9261\n",
            "Epoch 11/50\n",
            "32/32 [==============================] - 3s 93ms/step - loss: 2.1340e-05 - accuracy: 1.0000 - val_loss: 0.5848 - val_accuracy: 0.9261\n",
            "Epoch 12/50\n",
            "32/32 [==============================] - 3s 95ms/step - loss: 1.8184e-05 - accuracy: 1.0000 - val_loss: 0.7171 - val_accuracy: 0.9148\n",
            "Epoch 13/50\n",
            "32/32 [==============================] - 3s 93ms/step - loss: 1.3859e-05 - accuracy: 1.0000 - val_loss: 0.6878 - val_accuracy: 0.9205\n",
            "Epoch 14/50\n",
            "32/32 [==============================] - 3s 93ms/step - loss: 1.1585e-05 - accuracy: 1.0000 - val_loss: 0.6365 - val_accuracy: 0.9205\n",
            "Epoch 15/50\n",
            "32/32 [==============================] - 3s 93ms/step - loss: 1.0920e-05 - accuracy: 1.0000 - val_loss: 0.7549 - val_accuracy: 0.9148\n",
            "Epoch 16/50\n",
            "32/32 [==============================] - 3s 93ms/step - loss: 1.0336e-05 - accuracy: 1.0000 - val_loss: 0.6562 - val_accuracy: 0.9261\n",
            "Epoch 17/50\n",
            "32/32 [==============================] - 3s 93ms/step - loss: 8.8102e-06 - accuracy: 1.0000 - val_loss: 0.7343 - val_accuracy: 0.9205\n",
            "Epoch 18/50\n",
            "32/32 [==============================] - 3s 93ms/step - loss: 6.5076e-06 - accuracy: 1.0000 - val_loss: 0.6417 - val_accuracy: 0.9261\n",
            "Epoch 19/50\n",
            "32/32 [==============================] - 3s 93ms/step - loss: 6.7021e-06 - accuracy: 1.0000 - val_loss: 0.5026 - val_accuracy: 0.9318\n",
            "Epoch 20/50\n",
            "32/32 [==============================] - 3s 93ms/step - loss: 5.3593e-06 - accuracy: 1.0000 - val_loss: 0.6557 - val_accuracy: 0.9318\n",
            "Epoch 21/50\n",
            "32/32 [==============================] - 3s 93ms/step - loss: 4.8328e-06 - accuracy: 1.0000 - val_loss: 0.7077 - val_accuracy: 0.9261\n",
            "Epoch 22/50\n",
            "32/32 [==============================] - 3s 94ms/step - loss: 3.8535e-06 - accuracy: 1.0000 - val_loss: 0.7561 - val_accuracy: 0.9205\n",
            "Epoch 23/50\n",
            "32/32 [==============================] - 3s 92ms/step - loss: 3.3049e-06 - accuracy: 1.0000 - val_loss: 0.8187 - val_accuracy: 0.9261\n",
            "Epoch 24/50\n",
            "32/32 [==============================] - 3s 93ms/step - loss: 3.7950e-06 - accuracy: 1.0000 - val_loss: 0.4987 - val_accuracy: 0.9261\n",
            "Epoch 25/50\n",
            "32/32 [==============================] - 3s 93ms/step - loss: 3.1826e-06 - accuracy: 1.0000 - val_loss: 0.5875 - val_accuracy: 0.9261\n",
            "Epoch 26/50\n",
            "32/32 [==============================] - 3s 93ms/step - loss: 2.9832e-06 - accuracy: 1.0000 - val_loss: 0.7634 - val_accuracy: 0.9148\n",
            "Epoch 27/50\n",
            "32/32 [==============================] - 3s 93ms/step - loss: 2.2706e-06 - accuracy: 1.0000 - val_loss: 0.8115 - val_accuracy: 0.9205\n",
            "Epoch 28/50\n",
            "32/32 [==============================] - 3s 93ms/step - loss: 2.0439e-06 - accuracy: 1.0000 - val_loss: 0.6017 - val_accuracy: 0.9261\n",
            "Epoch 29/50\n",
            "32/32 [==============================] - 3s 93ms/step - loss: 1.8868e-06 - accuracy: 1.0000 - val_loss: 0.5705 - val_accuracy: 0.9375\n",
            "Epoch 30/50\n",
            "32/32 [==============================] - 3s 93ms/step - loss: 1.5047e-06 - accuracy: 1.0000 - val_loss: 0.7091 - val_accuracy: 0.9318\n",
            "Epoch 31/50\n",
            "32/32 [==============================] - 3s 94ms/step - loss: 1.3256e-06 - accuracy: 1.0000 - val_loss: 0.7045 - val_accuracy: 0.9375\n",
            "Epoch 32/50\n",
            "32/32 [==============================] - 3s 93ms/step - loss: 1.1956e-06 - accuracy: 1.0000 - val_loss: 0.8170 - val_accuracy: 0.9318\n",
            "Epoch 33/50\n",
            "32/32 [==============================] - 3s 93ms/step - loss: 1.0764e-06 - accuracy: 1.0000 - val_loss: 0.6897 - val_accuracy: 0.9432\n",
            "Epoch 34/50\n",
            "32/32 [==============================] - 3s 94ms/step - loss: 1.0484e-06 - accuracy: 1.0000 - val_loss: 0.8050 - val_accuracy: 0.9375\n",
            "Epoch 35/50\n",
            "32/32 [==============================] - 3s 94ms/step - loss: 9.1536e-07 - accuracy: 1.0000 - val_loss: 0.8327 - val_accuracy: 0.9318\n",
            "Epoch 36/50\n",
            "32/32 [==============================] - 3s 94ms/step - loss: 8.3160e-07 - accuracy: 1.0000 - val_loss: 0.9324 - val_accuracy: 0.9205\n",
            "Epoch 37/50\n",
            "32/32 [==============================] - 3s 94ms/step - loss: 6.8455e-07 - accuracy: 1.0000 - val_loss: 0.8954 - val_accuracy: 0.9261\n",
            "Epoch 38/50\n",
            "32/32 [==============================] - 3s 93ms/step - loss: 5.8462e-07 - accuracy: 1.0000 - val_loss: 0.8358 - val_accuracy: 0.9318\n",
            "Epoch 39/50\n",
            "32/32 [==============================] - 3s 95ms/step - loss: 5.2363e-07 - accuracy: 1.0000 - val_loss: 0.7238 - val_accuracy: 0.9375\n",
            "Epoch 40/50\n",
            "32/32 [==============================] - 3s 93ms/step - loss: 5.0325e-07 - accuracy: 1.0000 - val_loss: 0.6974 - val_accuracy: 0.9261\n",
            "Epoch 41/50\n",
            "32/32 [==============================] - 3s 94ms/step - loss: 4.4091e-07 - accuracy: 1.0000 - val_loss: 0.8305 - val_accuracy: 0.9261\n",
            "Epoch 42/50\n",
            "32/32 [==============================] - 3s 94ms/step - loss: 3.7452e-07 - accuracy: 1.0000 - val_loss: 0.7785 - val_accuracy: 0.9261\n",
            "Epoch 43/50\n",
            "32/32 [==============================] - 3s 94ms/step - loss: 3.6215e-07 - accuracy: 1.0000 - val_loss: 0.7421 - val_accuracy: 0.9318\n",
            "Epoch 44/50\n",
            "32/32 [==============================] - 3s 95ms/step - loss: 3.4383e-07 - accuracy: 1.0000 - val_loss: 0.7836 - val_accuracy: 0.9318\n",
            "Epoch 45/50\n",
            "32/32 [==============================] - 3s 93ms/step - loss: 3.3812e-07 - accuracy: 1.0000 - val_loss: 0.6685 - val_accuracy: 0.9318\n",
            "Epoch 46/50\n",
            "32/32 [==============================] - 3s 94ms/step - loss: 3.0100e-07 - accuracy: 1.0000 - val_loss: 0.6866 - val_accuracy: 0.9318\n",
            "Epoch 47/50\n",
            "32/32 [==============================] - 3s 94ms/step - loss: 2.8934e-07 - accuracy: 1.0000 - val_loss: 0.8918 - val_accuracy: 0.9261\n",
            "Epoch 48/50\n",
            "32/32 [==============================] - 3s 93ms/step - loss: 2.7768e-07 - accuracy: 1.0000 - val_loss: 0.9431 - val_accuracy: 0.9205\n",
            "Epoch 49/50\n",
            "32/32 [==============================] - 3s 93ms/step - loss: 2.5603e-07 - accuracy: 1.0000 - val_loss: 0.7629 - val_accuracy: 0.9318\n",
            "Epoch 50/50\n",
            "32/32 [==============================] - 3s 94ms/step - loss: 2.4008e-07 - accuracy: 1.0000 - val_loss: 0.7595 - val_accuracy: 0.9375\n"
          ],
          "name": "stdout"
        }
      ]
    },
    {
      "cell_type": "markdown",
      "metadata": {
        "id": "UPzsgS94tCA5"
      },
      "source": [
        "# Custom CNN Model\n",
        "\n",
        "In this step, write and train your own convolutional neural network using Keras. You can use any architecture that suits you as long as it has at least one convolutional and one pooling layer at the beginning of the network - you can add more if you want. "
      ]
    },
    {
      "cell_type": "code",
      "metadata": {
        "id": "LYXCkVilOAl8"
      },
      "source": [
        "from tensorflow.keras import datasets\n",
        "from tensorflow.keras.models import Sequential, Model\n",
        "from tensorflow.keras.layers import Dense, Conv2D, MaxPooling2D, Flatten\n",
        "from IPython.display import display\n",
        "from PIL import Image"
      ],
      "execution_count": 15,
      "outputs": []
    },
    {
      "cell_type": "code",
      "metadata": {
        "id": "hnbJJie3tCA5"
      },
      "source": [
        "# Define the Model\n",
        "model = Sequential([\n",
        "    Conv2D(224, (3,3), activation='relu', input_shape=(224, 224, 3)),\n",
        "    MaxPooling2D((2,2)),\n",
        "    Conv2D(64, (3,3), activation='relu'),\n",
        "    MaxPooling2D((2,2)),\n",
        "    Flatten(),\n",
        "    Dense(64, activation='relu'),\n",
        "    Dense(2, activation='softmax')\n",
        "])"
      ],
      "execution_count": 34,
      "outputs": []
    },
    {
      "cell_type": "code",
      "metadata": {
        "colab": {
          "base_uri": "https://localhost:8080/"
        },
        "id": "1P_mRtoutCA9",
        "outputId": "3c7d7750-8015-48fa-e559-c672563a652c"
      },
      "source": [
        "# Compile Model\n",
        "model.compile(loss='sparse_categorical_crossentropy',\n",
        "              optimizer='adam',\n",
        "              metrics=['accuracy'])\n",
        "\n",
        "model.summary()"
      ],
      "execution_count": 35,
      "outputs": [
        {
          "output_type": "stream",
          "text": [
            "Model: \"sequential_4\"\n",
            "_________________________________________________________________\n",
            "Layer (type)                 Output Shape              Param #   \n",
            "=================================================================\n",
            "conv2d_8 (Conv2D)            (None, 222, 222, 224)     6272      \n",
            "_________________________________________________________________\n",
            "max_pooling2d_8 (MaxPooling2 (None, 111, 111, 224)     0         \n",
            "_________________________________________________________________\n",
            "conv2d_9 (Conv2D)            (None, 109, 109, 64)      129088    \n",
            "_________________________________________________________________\n",
            "max_pooling2d_9 (MaxPooling2 (None, 54, 54, 64)        0         \n",
            "_________________________________________________________________\n",
            "flatten_4 (Flatten)          (None, 186624)            0         \n",
            "_________________________________________________________________\n",
            "dense_10 (Dense)             (None, 64)                11944000  \n",
            "_________________________________________________________________\n",
            "dense_11 (Dense)             (None, 2)                 130       \n",
            "=================================================================\n",
            "Total params: 12,079,490\n",
            "Trainable params: 12,079,490\n",
            "Non-trainable params: 0\n",
            "_________________________________________________________________\n"
          ],
          "name": "stdout"
        }
      ]
    },
    {
      "cell_type": "code",
      "metadata": {
        "id": "V0z-1-yeRU47",
        "outputId": "cec2fc2a-4b60-4611-9a2a-4efe06fa9315",
        "colab": {
          "base_uri": "https://localhost:8080/"
        }
      },
      "source": [
        "history = model.fit_generator(train_data_gen,\n",
        "                              epochs=epochs,\n",
        "                              validation_data=val_data_gen)"
      ],
      "execution_count": 36,
      "outputs": [
        {
          "output_type": "stream",
          "text": [
            "Epoch 1/50\n",
            " 2/34 [>.............................] - ETA: 2s - loss: 2.3836 - accuracy: 0.5312WARNING:tensorflow:Callbacks method `on_train_batch_end` is slow compared to the batch time (batch time: 0.0260s vs `on_train_batch_end` time: 0.0628s). Check your callbacks.\n",
            "34/34 [==============================] - 3s 99ms/step - loss: 0.8549 - accuracy: 0.6567 - val_loss: 0.1948 - val_accuracy: 0.9179\n",
            "Epoch 2/50\n",
            "34/34 [==============================] - 3s 93ms/step - loss: 0.3907 - accuracy: 0.8330 - val_loss: 0.3321 - val_accuracy: 0.8821\n",
            "Epoch 3/50\n",
            "34/34 [==============================] - 3s 93ms/step - loss: 0.3221 - accuracy: 0.8818 - val_loss: 0.3362 - val_accuracy: 0.8462\n",
            "Epoch 4/50\n",
            "34/34 [==============================] - 3s 94ms/step - loss: 0.2636 - accuracy: 0.9099 - val_loss: 0.1990 - val_accuracy: 0.9179\n",
            "Epoch 5/50\n",
            "34/34 [==============================] - 3s 94ms/step - loss: 0.1622 - accuracy: 0.9362 - val_loss: 0.4054 - val_accuracy: 0.8359\n",
            "Epoch 6/50\n",
            "34/34 [==============================] - 3s 93ms/step - loss: 0.1595 - accuracy: 0.9362 - val_loss: 0.1560 - val_accuracy: 0.9436\n",
            "Epoch 7/50\n",
            "34/34 [==============================] - 3s 93ms/step - loss: 0.1167 - accuracy: 0.9475 - val_loss: 0.4286 - val_accuracy: 0.8205\n",
            "Epoch 8/50\n",
            "34/34 [==============================] - 3s 94ms/step - loss: 0.0906 - accuracy: 0.9644 - val_loss: 0.2795 - val_accuracy: 0.8923\n",
            "Epoch 9/50\n",
            "34/34 [==============================] - 3s 92ms/step - loss: 0.1365 - accuracy: 0.9418 - val_loss: 0.1721 - val_accuracy: 0.9333\n",
            "Epoch 10/50\n",
            "34/34 [==============================] - 3s 94ms/step - loss: 0.0857 - accuracy: 0.9625 - val_loss: 0.1834 - val_accuracy: 0.9231\n",
            "Epoch 11/50\n",
            "34/34 [==============================] - 3s 93ms/step - loss: 0.0439 - accuracy: 0.9887 - val_loss: 0.2524 - val_accuracy: 0.9385\n",
            "Epoch 12/50\n",
            "34/34 [==============================] - 3s 94ms/step - loss: 0.0454 - accuracy: 0.9850 - val_loss: 0.1554 - val_accuracy: 0.9590\n",
            "Epoch 13/50\n",
            "34/34 [==============================] - 3s 94ms/step - loss: 0.0306 - accuracy: 0.9812 - val_loss: 0.2413 - val_accuracy: 0.9231\n",
            "Epoch 14/50\n",
            "34/34 [==============================] - 3s 94ms/step - loss: 0.0337 - accuracy: 0.9869 - val_loss: 0.3087 - val_accuracy: 0.9026\n",
            "Epoch 15/50\n",
            "34/34 [==============================] - 3s 93ms/step - loss: 0.0228 - accuracy: 0.9962 - val_loss: 0.3883 - val_accuracy: 0.9077\n",
            "Epoch 16/50\n",
            "34/34 [==============================] - 3s 94ms/step - loss: 0.0229 - accuracy: 0.9962 - val_loss: 0.1944 - val_accuracy: 0.9487\n",
            "Epoch 17/50\n",
            "34/34 [==============================] - 3s 94ms/step - loss: 0.0452 - accuracy: 0.9794 - val_loss: 1.0778 - val_accuracy: 0.7846\n",
            "Epoch 18/50\n",
            "34/34 [==============================] - 3s 92ms/step - loss: 0.0226 - accuracy: 0.9906 - val_loss: 0.2484 - val_accuracy: 0.9436\n",
            "Epoch 19/50\n",
            "34/34 [==============================] - 3s 93ms/step - loss: 0.0037 - accuracy: 1.0000 - val_loss: 0.6124 - val_accuracy: 0.8821\n",
            "Epoch 20/50\n",
            "34/34 [==============================] - 3s 92ms/step - loss: 0.0038 - accuracy: 1.0000 - val_loss: 0.3872 - val_accuracy: 0.9282\n",
            "Epoch 21/50\n",
            "34/34 [==============================] - 3s 93ms/step - loss: 0.0011 - accuracy: 1.0000 - val_loss: 0.4857 - val_accuracy: 0.9231\n",
            "Epoch 22/50\n",
            "34/34 [==============================] - 3s 93ms/step - loss: 4.8272e-04 - accuracy: 1.0000 - val_loss: 0.3466 - val_accuracy: 0.9487\n",
            "Epoch 23/50\n",
            "34/34 [==============================] - 3s 93ms/step - loss: 3.9309e-04 - accuracy: 1.0000 - val_loss: 0.5383 - val_accuracy: 0.9282\n",
            "Epoch 24/50\n",
            "34/34 [==============================] - 3s 93ms/step - loss: 3.0068e-04 - accuracy: 1.0000 - val_loss: 0.5279 - val_accuracy: 0.9282\n",
            "Epoch 25/50\n",
            "34/34 [==============================] - 3s 93ms/step - loss: 1.9230e-04 - accuracy: 1.0000 - val_loss: 0.5056 - val_accuracy: 0.9282\n",
            "Epoch 26/50\n",
            "34/34 [==============================] - 3s 93ms/step - loss: 1.6806e-04 - accuracy: 1.0000 - val_loss: 0.5241 - val_accuracy: 0.9282\n",
            "Epoch 27/50\n",
            "34/34 [==============================] - 3s 93ms/step - loss: 1.4279e-04 - accuracy: 1.0000 - val_loss: 0.5330 - val_accuracy: 0.9282\n",
            "Epoch 28/50\n",
            "34/34 [==============================] - 3s 95ms/step - loss: 1.2837e-04 - accuracy: 1.0000 - val_loss: 0.5397 - val_accuracy: 0.9282\n",
            "Epoch 29/50\n",
            "34/34 [==============================] - 3s 94ms/step - loss: 1.1626e-04 - accuracy: 1.0000 - val_loss: 0.5358 - val_accuracy: 0.9282\n",
            "Epoch 30/50\n",
            "34/34 [==============================] - 3s 94ms/step - loss: 1.0521e-04 - accuracy: 1.0000 - val_loss: 0.5730 - val_accuracy: 0.9282\n",
            "Epoch 31/50\n",
            "34/34 [==============================] - 3s 95ms/step - loss: 9.2412e-05 - accuracy: 1.0000 - val_loss: 0.5565 - val_accuracy: 0.9282\n",
            "Epoch 32/50\n",
            "34/34 [==============================] - 3s 95ms/step - loss: 9.0851e-05 - accuracy: 1.0000 - val_loss: 0.5793 - val_accuracy: 0.9282\n",
            "Epoch 33/50\n",
            "34/34 [==============================] - 3s 94ms/step - loss: 7.9933e-05 - accuracy: 1.0000 - val_loss: 0.5745 - val_accuracy: 0.9282\n",
            "Epoch 34/50\n",
            "34/34 [==============================] - 3s 94ms/step - loss: 6.8923e-05 - accuracy: 1.0000 - val_loss: 0.5722 - val_accuracy: 0.9282\n",
            "Epoch 35/50\n",
            "34/34 [==============================] - 3s 94ms/step - loss: 6.3784e-05 - accuracy: 1.0000 - val_loss: 0.5794 - val_accuracy: 0.9282\n",
            "Epoch 36/50\n",
            "34/34 [==============================] - 3s 94ms/step - loss: 5.8092e-05 - accuracy: 1.0000 - val_loss: 0.6020 - val_accuracy: 0.9282\n",
            "Epoch 37/50\n",
            "34/34 [==============================] - 3s 94ms/step - loss: 5.4346e-05 - accuracy: 1.0000 - val_loss: 0.5939 - val_accuracy: 0.9282\n",
            "Epoch 38/50\n",
            "34/34 [==============================] - 3s 94ms/step - loss: 5.1287e-05 - accuracy: 1.0000 - val_loss: 0.6167 - val_accuracy: 0.9282\n",
            "Epoch 39/50\n",
            "34/34 [==============================] - 3s 94ms/step - loss: 4.7284e-05 - accuracy: 1.0000 - val_loss: 0.6115 - val_accuracy: 0.9282\n",
            "Epoch 40/50\n",
            "34/34 [==============================] - 3s 94ms/step - loss: 4.2262e-05 - accuracy: 1.0000 - val_loss: 0.6158 - val_accuracy: 0.9282\n",
            "Epoch 41/50\n",
            "34/34 [==============================] - 3s 94ms/step - loss: 4.1839e-05 - accuracy: 1.0000 - val_loss: 0.6025 - val_accuracy: 0.9282\n",
            "Epoch 42/50\n",
            "34/34 [==============================] - 3s 93ms/step - loss: 3.9865e-05 - accuracy: 1.0000 - val_loss: 0.6269 - val_accuracy: 0.9282\n",
            "Epoch 43/50\n",
            "34/34 [==============================] - 3s 94ms/step - loss: 3.7275e-05 - accuracy: 1.0000 - val_loss: 0.6163 - val_accuracy: 0.9282\n",
            "Epoch 44/50\n",
            "34/34 [==============================] - 3s 94ms/step - loss: 3.4279e-05 - accuracy: 1.0000 - val_loss: 0.6208 - val_accuracy: 0.9282\n",
            "Epoch 45/50\n",
            "34/34 [==============================] - 3s 94ms/step - loss: 3.1476e-05 - accuracy: 1.0000 - val_loss: 0.6319 - val_accuracy: 0.9282\n",
            "Epoch 46/50\n",
            "34/34 [==============================] - 3s 94ms/step - loss: 3.0530e-05 - accuracy: 1.0000 - val_loss: 0.6112 - val_accuracy: 0.9282\n",
            "Epoch 47/50\n",
            "34/34 [==============================] - 3s 93ms/step - loss: 2.8202e-05 - accuracy: 1.0000 - val_loss: 0.6372 - val_accuracy: 0.9282\n",
            "Epoch 48/50\n",
            "34/34 [==============================] - 3s 94ms/step - loss: 2.6569e-05 - accuracy: 1.0000 - val_loss: 0.6428 - val_accuracy: 0.9282\n",
            "Epoch 49/50\n",
            "34/34 [==============================] - 3s 93ms/step - loss: 2.5719e-05 - accuracy: 1.0000 - val_loss: 0.6559 - val_accuracy: 0.9282\n",
            "Epoch 50/50\n",
            "34/34 [==============================] - 3s 93ms/step - loss: 2.4843e-05 - accuracy: 1.0000 - val_loss: 0.6329 - val_accuracy: 0.9282\n"
          ],
          "name": "stdout"
        }
      ]
    },
    {
      "cell_type": "markdown",
      "metadata": {
        "id": "FNTHjUddtCBB"
      },
      "source": [
        "# Custom CNN Model with Image Manipulations\n",
        "\n",
        "To simulate an increase in a sample of image, you can apply image manipulation techniques: cropping, rotation, stretching, etc. Luckily Keras has some handy functions for us to apply these techniques to our mountain and forest example. Simply, you should be able to modify our image generator for the problem. Check out these resources to help you get started: \n",
        "\n",
        "1. [Keras `ImageGenerator` Class](https://keras.io/preprocessing/image/#imagedatagenerator-class)\n",
        "2. [Building a powerful image classifier with very little data](https://blog.keras.io/building-powerful-image-classification-models-using-very-little-data.html)\n",
        " "
      ]
    },
    {
      "cell_type": "code",
      "metadata": {
        "colab": {
          "base_uri": "https://localhost:8080/"
        },
        "id": "XKioBv3WtCBB",
        "outputId": "1eda9911-97ad-4a2a-9e21-a4905fd9b1ca"
      },
      "source": [
        "from tensorflow.keras.applications.vgg19 import preprocess_input\n",
        "\n",
        "train_datagen = ImageDataGenerator(\n",
        "    data_format='channels_last',\n",
        "    rotation_range=30,\n",
        "    horizontal_flip=True,\n",
        "    preprocessing_function=preprocess_input,\n",
        "    fill_mode='reflect')\n",
        "\n",
        "valid_datagen = ImageDataGenerator(\n",
        "    preprocessing_function=preprocess_input,\n",
        "    data_format='channels_last')\n",
        "\n",
        "train_datagen.flow_from_directory(batch_size=batch_size,\n",
        "                                  directory=train_dir,\n",
        "                                  shuffle=True,\n",
        "                                  target_size=(IMG_HEIGHT, IMG_WIDTH),\n",
        "                                  class_mode='binary')\n",
        "\n",
        "valid_datagen.flow_from_directory(batch_size=batch_size,\n",
        "                                  directory=validation_dir,\n",
        "                                  shuffle=True,\n",
        "                                  target_size=(IMG_HEIGHT, IMG_WIDTH),\n",
        "                                  class_mode='binary')"
      ],
      "execution_count": 62,
      "outputs": [
        {
          "output_type": "stream",
          "text": [
            "Found 533 images belonging to 2 classes.\n",
            "Found 195 images belonging to 2 classes.\n"
          ],
          "name": "stdout"
        },
        {
          "output_type": "execute_result",
          "data": {
            "text/plain": [
              "<tensorflow.python.keras.preprocessing.image.DirectoryIterator at 0x7f282a4509e8>"
            ]
          },
          "metadata": {
            "tags": []
          },
          "execution_count": 62
        }
      ]
    },
    {
      "cell_type": "code",
      "metadata": {
        "id": "RyZPP3mIUonZ",
        "outputId": "85927a9d-40cb-405a-ddd5-116898722885",
        "colab": {
          "base_uri": "https://localhost:8080/"
        }
      },
      "source": [
        "model = Model(resnet.input, predictions)\n",
        "model.compile(loss='sparse_categorical_crossentropy',\n",
        "              optimizer='adam',\n",
        "              metrics=['accuracy'])\n",
        "\n",
        "model.summary()"
      ],
      "execution_count": 65,
      "outputs": [
        {
          "output_type": "stream",
          "text": [
            "Model: \"functional_21\"\n",
            "__________________________________________________________________________________________________\n",
            "Layer (type)                    Output Shape         Param #     Connected to                     \n",
            "==================================================================================================\n",
            "input_1 (InputLayer)            [(None, None, None,  0                                            \n",
            "__________________________________________________________________________________________________\n",
            "conv1_pad (ZeroPadding2D)       (None, None, None, 3 0           input_1[0][0]                    \n",
            "__________________________________________________________________________________________________\n",
            "conv1_conv (Conv2D)             (None, None, None, 6 9472        conv1_pad[0][0]                  \n",
            "__________________________________________________________________________________________________\n",
            "conv1_bn (BatchNormalization)   (None, None, None, 6 256         conv1_conv[0][0]                 \n",
            "__________________________________________________________________________________________________\n",
            "conv1_relu (Activation)         (None, None, None, 6 0           conv1_bn[0][0]                   \n",
            "__________________________________________________________________________________________________\n",
            "pool1_pad (ZeroPadding2D)       (None, None, None, 6 0           conv1_relu[0][0]                 \n",
            "__________________________________________________________________________________________________\n",
            "pool1_pool (MaxPooling2D)       (None, None, None, 6 0           pool1_pad[0][0]                  \n",
            "__________________________________________________________________________________________________\n",
            "conv2_block1_1_conv (Conv2D)    (None, None, None, 6 4160        pool1_pool[0][0]                 \n",
            "__________________________________________________________________________________________________\n",
            "conv2_block1_1_bn (BatchNormali (None, None, None, 6 256         conv2_block1_1_conv[0][0]        \n",
            "__________________________________________________________________________________________________\n",
            "conv2_block1_1_relu (Activation (None, None, None, 6 0           conv2_block1_1_bn[0][0]          \n",
            "__________________________________________________________________________________________________\n",
            "conv2_block1_2_conv (Conv2D)    (None, None, None, 6 36928       conv2_block1_1_relu[0][0]        \n",
            "__________________________________________________________________________________________________\n",
            "conv2_block1_2_bn (BatchNormali (None, None, None, 6 256         conv2_block1_2_conv[0][0]        \n",
            "__________________________________________________________________________________________________\n",
            "conv2_block1_2_relu (Activation (None, None, None, 6 0           conv2_block1_2_bn[0][0]          \n",
            "__________________________________________________________________________________________________\n",
            "conv2_block1_0_conv (Conv2D)    (None, None, None, 2 16640       pool1_pool[0][0]                 \n",
            "__________________________________________________________________________________________________\n",
            "conv2_block1_3_conv (Conv2D)    (None, None, None, 2 16640       conv2_block1_2_relu[0][0]        \n",
            "__________________________________________________________________________________________________\n",
            "conv2_block1_0_bn (BatchNormali (None, None, None, 2 1024        conv2_block1_0_conv[0][0]        \n",
            "__________________________________________________________________________________________________\n",
            "conv2_block1_3_bn (BatchNormali (None, None, None, 2 1024        conv2_block1_3_conv[0][0]        \n",
            "__________________________________________________________________________________________________\n",
            "conv2_block1_add (Add)          (None, None, None, 2 0           conv2_block1_0_bn[0][0]          \n",
            "                                                                 conv2_block1_3_bn[0][0]          \n",
            "__________________________________________________________________________________________________\n",
            "conv2_block1_out (Activation)   (None, None, None, 2 0           conv2_block1_add[0][0]           \n",
            "__________________________________________________________________________________________________\n",
            "conv2_block2_1_conv (Conv2D)    (None, None, None, 6 16448       conv2_block1_out[0][0]           \n",
            "__________________________________________________________________________________________________\n",
            "conv2_block2_1_bn (BatchNormali (None, None, None, 6 256         conv2_block2_1_conv[0][0]        \n",
            "__________________________________________________________________________________________________\n",
            "conv2_block2_1_relu (Activation (None, None, None, 6 0           conv2_block2_1_bn[0][0]          \n",
            "__________________________________________________________________________________________________\n",
            "conv2_block2_2_conv (Conv2D)    (None, None, None, 6 36928       conv2_block2_1_relu[0][0]        \n",
            "__________________________________________________________________________________________________\n",
            "conv2_block2_2_bn (BatchNormali (None, None, None, 6 256         conv2_block2_2_conv[0][0]        \n",
            "__________________________________________________________________________________________________\n",
            "conv2_block2_2_relu (Activation (None, None, None, 6 0           conv2_block2_2_bn[0][0]          \n",
            "__________________________________________________________________________________________________\n",
            "conv2_block2_3_conv (Conv2D)    (None, None, None, 2 16640       conv2_block2_2_relu[0][0]        \n",
            "__________________________________________________________________________________________________\n",
            "conv2_block2_3_bn (BatchNormali (None, None, None, 2 1024        conv2_block2_3_conv[0][0]        \n",
            "__________________________________________________________________________________________________\n",
            "conv2_block2_add (Add)          (None, None, None, 2 0           conv2_block1_out[0][0]           \n",
            "                                                                 conv2_block2_3_bn[0][0]          \n",
            "__________________________________________________________________________________________________\n",
            "conv2_block2_out (Activation)   (None, None, None, 2 0           conv2_block2_add[0][0]           \n",
            "__________________________________________________________________________________________________\n",
            "conv2_block3_1_conv (Conv2D)    (None, None, None, 6 16448       conv2_block2_out[0][0]           \n",
            "__________________________________________________________________________________________________\n",
            "conv2_block3_1_bn (BatchNormali (None, None, None, 6 256         conv2_block3_1_conv[0][0]        \n",
            "__________________________________________________________________________________________________\n",
            "conv2_block3_1_relu (Activation (None, None, None, 6 0           conv2_block3_1_bn[0][0]          \n",
            "__________________________________________________________________________________________________\n",
            "conv2_block3_2_conv (Conv2D)    (None, None, None, 6 36928       conv2_block3_1_relu[0][0]        \n",
            "__________________________________________________________________________________________________\n",
            "conv2_block3_2_bn (BatchNormali (None, None, None, 6 256         conv2_block3_2_conv[0][0]        \n",
            "__________________________________________________________________________________________________\n",
            "conv2_block3_2_relu (Activation (None, None, None, 6 0           conv2_block3_2_bn[0][0]          \n",
            "__________________________________________________________________________________________________\n",
            "conv2_block3_3_conv (Conv2D)    (None, None, None, 2 16640       conv2_block3_2_relu[0][0]        \n",
            "__________________________________________________________________________________________________\n",
            "conv2_block3_3_bn (BatchNormali (None, None, None, 2 1024        conv2_block3_3_conv[0][0]        \n",
            "__________________________________________________________________________________________________\n",
            "conv2_block3_add (Add)          (None, None, None, 2 0           conv2_block2_out[0][0]           \n",
            "                                                                 conv2_block3_3_bn[0][0]          \n",
            "__________________________________________________________________________________________________\n",
            "conv2_block3_out (Activation)   (None, None, None, 2 0           conv2_block3_add[0][0]           \n",
            "__________________________________________________________________________________________________\n",
            "conv3_block1_1_conv (Conv2D)    (None, None, None, 1 32896       conv2_block3_out[0][0]           \n",
            "__________________________________________________________________________________________________\n",
            "conv3_block1_1_bn (BatchNormali (None, None, None, 1 512         conv3_block1_1_conv[0][0]        \n",
            "__________________________________________________________________________________________________\n",
            "conv3_block1_1_relu (Activation (None, None, None, 1 0           conv3_block1_1_bn[0][0]          \n",
            "__________________________________________________________________________________________________\n",
            "conv3_block1_2_conv (Conv2D)    (None, None, None, 1 147584      conv3_block1_1_relu[0][0]        \n",
            "__________________________________________________________________________________________________\n",
            "conv3_block1_2_bn (BatchNormali (None, None, None, 1 512         conv3_block1_2_conv[0][0]        \n",
            "__________________________________________________________________________________________________\n",
            "conv3_block1_2_relu (Activation (None, None, None, 1 0           conv3_block1_2_bn[0][0]          \n",
            "__________________________________________________________________________________________________\n",
            "conv3_block1_0_conv (Conv2D)    (None, None, None, 5 131584      conv2_block3_out[0][0]           \n",
            "__________________________________________________________________________________________________\n",
            "conv3_block1_3_conv (Conv2D)    (None, None, None, 5 66048       conv3_block1_2_relu[0][0]        \n",
            "__________________________________________________________________________________________________\n",
            "conv3_block1_0_bn (BatchNormali (None, None, None, 5 2048        conv3_block1_0_conv[0][0]        \n",
            "__________________________________________________________________________________________________\n",
            "conv3_block1_3_bn (BatchNormali (None, None, None, 5 2048        conv3_block1_3_conv[0][0]        \n",
            "__________________________________________________________________________________________________\n",
            "conv3_block1_add (Add)          (None, None, None, 5 0           conv3_block1_0_bn[0][0]          \n",
            "                                                                 conv3_block1_3_bn[0][0]          \n",
            "__________________________________________________________________________________________________\n",
            "conv3_block1_out (Activation)   (None, None, None, 5 0           conv3_block1_add[0][0]           \n",
            "__________________________________________________________________________________________________\n",
            "conv3_block2_1_conv (Conv2D)    (None, None, None, 1 65664       conv3_block1_out[0][0]           \n",
            "__________________________________________________________________________________________________\n",
            "conv3_block2_1_bn (BatchNormali (None, None, None, 1 512         conv3_block2_1_conv[0][0]        \n",
            "__________________________________________________________________________________________________\n",
            "conv3_block2_1_relu (Activation (None, None, None, 1 0           conv3_block2_1_bn[0][0]          \n",
            "__________________________________________________________________________________________________\n",
            "conv3_block2_2_conv (Conv2D)    (None, None, None, 1 147584      conv3_block2_1_relu[0][0]        \n",
            "__________________________________________________________________________________________________\n",
            "conv3_block2_2_bn (BatchNormali (None, None, None, 1 512         conv3_block2_2_conv[0][0]        \n",
            "__________________________________________________________________________________________________\n",
            "conv3_block2_2_relu (Activation (None, None, None, 1 0           conv3_block2_2_bn[0][0]          \n",
            "__________________________________________________________________________________________________\n",
            "conv3_block2_3_conv (Conv2D)    (None, None, None, 5 66048       conv3_block2_2_relu[0][0]        \n",
            "__________________________________________________________________________________________________\n",
            "conv3_block2_3_bn (BatchNormali (None, None, None, 5 2048        conv3_block2_3_conv[0][0]        \n",
            "__________________________________________________________________________________________________\n",
            "conv3_block2_add (Add)          (None, None, None, 5 0           conv3_block1_out[0][0]           \n",
            "                                                                 conv3_block2_3_bn[0][0]          \n",
            "__________________________________________________________________________________________________\n",
            "conv3_block2_out (Activation)   (None, None, None, 5 0           conv3_block2_add[0][0]           \n",
            "__________________________________________________________________________________________________\n",
            "conv3_block3_1_conv (Conv2D)    (None, None, None, 1 65664       conv3_block2_out[0][0]           \n",
            "__________________________________________________________________________________________________\n",
            "conv3_block3_1_bn (BatchNormali (None, None, None, 1 512         conv3_block3_1_conv[0][0]        \n",
            "__________________________________________________________________________________________________\n",
            "conv3_block3_1_relu (Activation (None, None, None, 1 0           conv3_block3_1_bn[0][0]          \n",
            "__________________________________________________________________________________________________\n",
            "conv3_block3_2_conv (Conv2D)    (None, None, None, 1 147584      conv3_block3_1_relu[0][0]        \n",
            "__________________________________________________________________________________________________\n",
            "conv3_block3_2_bn (BatchNormali (None, None, None, 1 512         conv3_block3_2_conv[0][0]        \n",
            "__________________________________________________________________________________________________\n",
            "conv3_block3_2_relu (Activation (None, None, None, 1 0           conv3_block3_2_bn[0][0]          \n",
            "__________________________________________________________________________________________________\n",
            "conv3_block3_3_conv (Conv2D)    (None, None, None, 5 66048       conv3_block3_2_relu[0][0]        \n",
            "__________________________________________________________________________________________________\n",
            "conv3_block3_3_bn (BatchNormali (None, None, None, 5 2048        conv3_block3_3_conv[0][0]        \n",
            "__________________________________________________________________________________________________\n",
            "conv3_block3_add (Add)          (None, None, None, 5 0           conv3_block2_out[0][0]           \n",
            "                                                                 conv3_block3_3_bn[0][0]          \n",
            "__________________________________________________________________________________________________\n",
            "conv3_block3_out (Activation)   (None, None, None, 5 0           conv3_block3_add[0][0]           \n",
            "__________________________________________________________________________________________________\n",
            "conv3_block4_1_conv (Conv2D)    (None, None, None, 1 65664       conv3_block3_out[0][0]           \n",
            "__________________________________________________________________________________________________\n",
            "conv3_block4_1_bn (BatchNormali (None, None, None, 1 512         conv3_block4_1_conv[0][0]        \n",
            "__________________________________________________________________________________________________\n",
            "conv3_block4_1_relu (Activation (None, None, None, 1 0           conv3_block4_1_bn[0][0]          \n",
            "__________________________________________________________________________________________________\n",
            "conv3_block4_2_conv (Conv2D)    (None, None, None, 1 147584      conv3_block4_1_relu[0][0]        \n",
            "__________________________________________________________________________________________________\n",
            "conv3_block4_2_bn (BatchNormali (None, None, None, 1 512         conv3_block4_2_conv[0][0]        \n",
            "__________________________________________________________________________________________________\n",
            "conv3_block4_2_relu (Activation (None, None, None, 1 0           conv3_block4_2_bn[0][0]          \n",
            "__________________________________________________________________________________________________\n",
            "conv3_block4_3_conv (Conv2D)    (None, None, None, 5 66048       conv3_block4_2_relu[0][0]        \n",
            "__________________________________________________________________________________________________\n",
            "conv3_block4_3_bn (BatchNormali (None, None, None, 5 2048        conv3_block4_3_conv[0][0]        \n",
            "__________________________________________________________________________________________________\n",
            "conv3_block4_add (Add)          (None, None, None, 5 0           conv3_block3_out[0][0]           \n",
            "                                                                 conv3_block4_3_bn[0][0]          \n",
            "__________________________________________________________________________________________________\n",
            "conv3_block4_out (Activation)   (None, None, None, 5 0           conv3_block4_add[0][0]           \n",
            "__________________________________________________________________________________________________\n",
            "conv4_block1_1_conv (Conv2D)    (None, None, None, 2 131328      conv3_block4_out[0][0]           \n",
            "__________________________________________________________________________________________________\n",
            "conv4_block1_1_bn (BatchNormali (None, None, None, 2 1024        conv4_block1_1_conv[0][0]        \n",
            "__________________________________________________________________________________________________\n",
            "conv4_block1_1_relu (Activation (None, None, None, 2 0           conv4_block1_1_bn[0][0]          \n",
            "__________________________________________________________________________________________________\n",
            "conv4_block1_2_conv (Conv2D)    (None, None, None, 2 590080      conv4_block1_1_relu[0][0]        \n",
            "__________________________________________________________________________________________________\n",
            "conv4_block1_2_bn (BatchNormali (None, None, None, 2 1024        conv4_block1_2_conv[0][0]        \n",
            "__________________________________________________________________________________________________\n",
            "conv4_block1_2_relu (Activation (None, None, None, 2 0           conv4_block1_2_bn[0][0]          \n",
            "__________________________________________________________________________________________________\n",
            "conv4_block1_0_conv (Conv2D)    (None, None, None, 1 525312      conv3_block4_out[0][0]           \n",
            "__________________________________________________________________________________________________\n",
            "conv4_block1_3_conv (Conv2D)    (None, None, None, 1 263168      conv4_block1_2_relu[0][0]        \n",
            "__________________________________________________________________________________________________\n",
            "conv4_block1_0_bn (BatchNormali (None, None, None, 1 4096        conv4_block1_0_conv[0][0]        \n",
            "__________________________________________________________________________________________________\n",
            "conv4_block1_3_bn (BatchNormali (None, None, None, 1 4096        conv4_block1_3_conv[0][0]        \n",
            "__________________________________________________________________________________________________\n",
            "conv4_block1_add (Add)          (None, None, None, 1 0           conv4_block1_0_bn[0][0]          \n",
            "                                                                 conv4_block1_3_bn[0][0]          \n",
            "__________________________________________________________________________________________________\n",
            "conv4_block1_out (Activation)   (None, None, None, 1 0           conv4_block1_add[0][0]           \n",
            "__________________________________________________________________________________________________\n",
            "conv4_block2_1_conv (Conv2D)    (None, None, None, 2 262400      conv4_block1_out[0][0]           \n",
            "__________________________________________________________________________________________________\n",
            "conv4_block2_1_bn (BatchNormali (None, None, None, 2 1024        conv4_block2_1_conv[0][0]        \n",
            "__________________________________________________________________________________________________\n",
            "conv4_block2_1_relu (Activation (None, None, None, 2 0           conv4_block2_1_bn[0][0]          \n",
            "__________________________________________________________________________________________________\n",
            "conv4_block2_2_conv (Conv2D)    (None, None, None, 2 590080      conv4_block2_1_relu[0][0]        \n",
            "__________________________________________________________________________________________________\n",
            "conv4_block2_2_bn (BatchNormali (None, None, None, 2 1024        conv4_block2_2_conv[0][0]        \n",
            "__________________________________________________________________________________________________\n",
            "conv4_block2_2_relu (Activation (None, None, None, 2 0           conv4_block2_2_bn[0][0]          \n",
            "__________________________________________________________________________________________________\n",
            "conv4_block2_3_conv (Conv2D)    (None, None, None, 1 263168      conv4_block2_2_relu[0][0]        \n",
            "__________________________________________________________________________________________________\n",
            "conv4_block2_3_bn (BatchNormali (None, None, None, 1 4096        conv4_block2_3_conv[0][0]        \n",
            "__________________________________________________________________________________________________\n",
            "conv4_block2_add (Add)          (None, None, None, 1 0           conv4_block1_out[0][0]           \n",
            "                                                                 conv4_block2_3_bn[0][0]          \n",
            "__________________________________________________________________________________________________\n",
            "conv4_block2_out (Activation)   (None, None, None, 1 0           conv4_block2_add[0][0]           \n",
            "__________________________________________________________________________________________________\n",
            "conv4_block3_1_conv (Conv2D)    (None, None, None, 2 262400      conv4_block2_out[0][0]           \n",
            "__________________________________________________________________________________________________\n",
            "conv4_block3_1_bn (BatchNormali (None, None, None, 2 1024        conv4_block3_1_conv[0][0]        \n",
            "__________________________________________________________________________________________________\n",
            "conv4_block3_1_relu (Activation (None, None, None, 2 0           conv4_block3_1_bn[0][0]          \n",
            "__________________________________________________________________________________________________\n",
            "conv4_block3_2_conv (Conv2D)    (None, None, None, 2 590080      conv4_block3_1_relu[0][0]        \n",
            "__________________________________________________________________________________________________\n",
            "conv4_block3_2_bn (BatchNormali (None, None, None, 2 1024        conv4_block3_2_conv[0][0]        \n",
            "__________________________________________________________________________________________________\n",
            "conv4_block3_2_relu (Activation (None, None, None, 2 0           conv4_block3_2_bn[0][0]          \n",
            "__________________________________________________________________________________________________\n",
            "conv4_block3_3_conv (Conv2D)    (None, None, None, 1 263168      conv4_block3_2_relu[0][0]        \n",
            "__________________________________________________________________________________________________\n",
            "conv4_block3_3_bn (BatchNormali (None, None, None, 1 4096        conv4_block3_3_conv[0][0]        \n",
            "__________________________________________________________________________________________________\n",
            "conv4_block3_add (Add)          (None, None, None, 1 0           conv4_block2_out[0][0]           \n",
            "                                                                 conv4_block3_3_bn[0][0]          \n",
            "__________________________________________________________________________________________________\n",
            "conv4_block3_out (Activation)   (None, None, None, 1 0           conv4_block3_add[0][0]           \n",
            "__________________________________________________________________________________________________\n",
            "conv4_block4_1_conv (Conv2D)    (None, None, None, 2 262400      conv4_block3_out[0][0]           \n",
            "__________________________________________________________________________________________________\n",
            "conv4_block4_1_bn (BatchNormali (None, None, None, 2 1024        conv4_block4_1_conv[0][0]        \n",
            "__________________________________________________________________________________________________\n",
            "conv4_block4_1_relu (Activation (None, None, None, 2 0           conv4_block4_1_bn[0][0]          \n",
            "__________________________________________________________________________________________________\n",
            "conv4_block4_2_conv (Conv2D)    (None, None, None, 2 590080      conv4_block4_1_relu[0][0]        \n",
            "__________________________________________________________________________________________________\n",
            "conv4_block4_2_bn (BatchNormali (None, None, None, 2 1024        conv4_block4_2_conv[0][0]        \n",
            "__________________________________________________________________________________________________\n",
            "conv4_block4_2_relu (Activation (None, None, None, 2 0           conv4_block4_2_bn[0][0]          \n",
            "__________________________________________________________________________________________________\n",
            "conv4_block4_3_conv (Conv2D)    (None, None, None, 1 263168      conv4_block4_2_relu[0][0]        \n",
            "__________________________________________________________________________________________________\n",
            "conv4_block4_3_bn (BatchNormali (None, None, None, 1 4096        conv4_block4_3_conv[0][0]        \n",
            "__________________________________________________________________________________________________\n",
            "conv4_block4_add (Add)          (None, None, None, 1 0           conv4_block3_out[0][0]           \n",
            "                                                                 conv4_block4_3_bn[0][0]          \n",
            "__________________________________________________________________________________________________\n",
            "conv4_block4_out (Activation)   (None, None, None, 1 0           conv4_block4_add[0][0]           \n",
            "__________________________________________________________________________________________________\n",
            "conv4_block5_1_conv (Conv2D)    (None, None, None, 2 262400      conv4_block4_out[0][0]           \n",
            "__________________________________________________________________________________________________\n",
            "conv4_block5_1_bn (BatchNormali (None, None, None, 2 1024        conv4_block5_1_conv[0][0]        \n",
            "__________________________________________________________________________________________________\n",
            "conv4_block5_1_relu (Activation (None, None, None, 2 0           conv4_block5_1_bn[0][0]          \n",
            "__________________________________________________________________________________________________\n",
            "conv4_block5_2_conv (Conv2D)    (None, None, None, 2 590080      conv4_block5_1_relu[0][0]        \n",
            "__________________________________________________________________________________________________\n",
            "conv4_block5_2_bn (BatchNormali (None, None, None, 2 1024        conv4_block5_2_conv[0][0]        \n",
            "__________________________________________________________________________________________________\n",
            "conv4_block5_2_relu (Activation (None, None, None, 2 0           conv4_block5_2_bn[0][0]          \n",
            "__________________________________________________________________________________________________\n",
            "conv4_block5_3_conv (Conv2D)    (None, None, None, 1 263168      conv4_block5_2_relu[0][0]        \n",
            "__________________________________________________________________________________________________\n",
            "conv4_block5_3_bn (BatchNormali (None, None, None, 1 4096        conv4_block5_3_conv[0][0]        \n",
            "__________________________________________________________________________________________________\n",
            "conv4_block5_add (Add)          (None, None, None, 1 0           conv4_block4_out[0][0]           \n",
            "                                                                 conv4_block5_3_bn[0][0]          \n",
            "__________________________________________________________________________________________________\n",
            "conv4_block5_out (Activation)   (None, None, None, 1 0           conv4_block5_add[0][0]           \n",
            "__________________________________________________________________________________________________\n",
            "conv4_block6_1_conv (Conv2D)    (None, None, None, 2 262400      conv4_block5_out[0][0]           \n",
            "__________________________________________________________________________________________________\n",
            "conv4_block6_1_bn (BatchNormali (None, None, None, 2 1024        conv4_block6_1_conv[0][0]        \n",
            "__________________________________________________________________________________________________\n",
            "conv4_block6_1_relu (Activation (None, None, None, 2 0           conv4_block6_1_bn[0][0]          \n",
            "__________________________________________________________________________________________________\n",
            "conv4_block6_2_conv (Conv2D)    (None, None, None, 2 590080      conv4_block6_1_relu[0][0]        \n",
            "__________________________________________________________________________________________________\n",
            "conv4_block6_2_bn (BatchNormali (None, None, None, 2 1024        conv4_block6_2_conv[0][0]        \n",
            "__________________________________________________________________________________________________\n",
            "conv4_block6_2_relu (Activation (None, None, None, 2 0           conv4_block6_2_bn[0][0]          \n",
            "__________________________________________________________________________________________________\n",
            "conv4_block6_3_conv (Conv2D)    (None, None, None, 1 263168      conv4_block6_2_relu[0][0]        \n",
            "__________________________________________________________________________________________________\n",
            "conv4_block6_3_bn (BatchNormali (None, None, None, 1 4096        conv4_block6_3_conv[0][0]        \n",
            "__________________________________________________________________________________________________\n",
            "conv4_block6_add (Add)          (None, None, None, 1 0           conv4_block5_out[0][0]           \n",
            "                                                                 conv4_block6_3_bn[0][0]          \n",
            "__________________________________________________________________________________________________\n",
            "conv4_block6_out (Activation)   (None, None, None, 1 0           conv4_block6_add[0][0]           \n",
            "__________________________________________________________________________________________________\n",
            "conv5_block1_1_conv (Conv2D)    (None, None, None, 5 524800      conv4_block6_out[0][0]           \n",
            "__________________________________________________________________________________________________\n",
            "conv5_block1_1_bn (BatchNormali (None, None, None, 5 2048        conv5_block1_1_conv[0][0]        \n",
            "__________________________________________________________________________________________________\n",
            "conv5_block1_1_relu (Activation (None, None, None, 5 0           conv5_block1_1_bn[0][0]          \n",
            "__________________________________________________________________________________________________\n",
            "conv5_block1_2_conv (Conv2D)    (None, None, None, 5 2359808     conv5_block1_1_relu[0][0]        \n",
            "__________________________________________________________________________________________________\n",
            "conv5_block1_2_bn (BatchNormali (None, None, None, 5 2048        conv5_block1_2_conv[0][0]        \n",
            "__________________________________________________________________________________________________\n",
            "conv5_block1_2_relu (Activation (None, None, None, 5 0           conv5_block1_2_bn[0][0]          \n",
            "__________________________________________________________________________________________________\n",
            "conv5_block1_0_conv (Conv2D)    (None, None, None, 2 2099200     conv4_block6_out[0][0]           \n",
            "__________________________________________________________________________________________________\n",
            "conv5_block1_3_conv (Conv2D)    (None, None, None, 2 1050624     conv5_block1_2_relu[0][0]        \n",
            "__________________________________________________________________________________________________\n",
            "conv5_block1_0_bn (BatchNormali (None, None, None, 2 8192        conv5_block1_0_conv[0][0]        \n",
            "__________________________________________________________________________________________________\n",
            "conv5_block1_3_bn (BatchNormali (None, None, None, 2 8192        conv5_block1_3_conv[0][0]        \n",
            "__________________________________________________________________________________________________\n",
            "conv5_block1_add (Add)          (None, None, None, 2 0           conv5_block1_0_bn[0][0]          \n",
            "                                                                 conv5_block1_3_bn[0][0]          \n",
            "__________________________________________________________________________________________________\n",
            "conv5_block1_out (Activation)   (None, None, None, 2 0           conv5_block1_add[0][0]           \n",
            "__________________________________________________________________________________________________\n",
            "conv5_block2_1_conv (Conv2D)    (None, None, None, 5 1049088     conv5_block1_out[0][0]           \n",
            "__________________________________________________________________________________________________\n",
            "conv5_block2_1_bn (BatchNormali (None, None, None, 5 2048        conv5_block2_1_conv[0][0]        \n",
            "__________________________________________________________________________________________________\n",
            "conv5_block2_1_relu (Activation (None, None, None, 5 0           conv5_block2_1_bn[0][0]          \n",
            "__________________________________________________________________________________________________\n",
            "conv5_block2_2_conv (Conv2D)    (None, None, None, 5 2359808     conv5_block2_1_relu[0][0]        \n",
            "__________________________________________________________________________________________________\n",
            "conv5_block2_2_bn (BatchNormali (None, None, None, 5 2048        conv5_block2_2_conv[0][0]        \n",
            "__________________________________________________________________________________________________\n",
            "conv5_block2_2_relu (Activation (None, None, None, 5 0           conv5_block2_2_bn[0][0]          \n",
            "__________________________________________________________________________________________________\n",
            "conv5_block2_3_conv (Conv2D)    (None, None, None, 2 1050624     conv5_block2_2_relu[0][0]        \n",
            "__________________________________________________________________________________________________\n",
            "conv5_block2_3_bn (BatchNormali (None, None, None, 2 8192        conv5_block2_3_conv[0][0]        \n",
            "__________________________________________________________________________________________________\n",
            "conv5_block2_add (Add)          (None, None, None, 2 0           conv5_block1_out[0][0]           \n",
            "                                                                 conv5_block2_3_bn[0][0]          \n",
            "__________________________________________________________________________________________________\n",
            "conv5_block2_out (Activation)   (None, None, None, 2 0           conv5_block2_add[0][0]           \n",
            "__________________________________________________________________________________________________\n",
            "conv5_block3_1_conv (Conv2D)    (None, None, None, 5 1049088     conv5_block2_out[0][0]           \n",
            "__________________________________________________________________________________________________\n",
            "conv5_block3_1_bn (BatchNormali (None, None, None, 5 2048        conv5_block3_1_conv[0][0]        \n",
            "__________________________________________________________________________________________________\n",
            "conv5_block3_1_relu (Activation (None, None, None, 5 0           conv5_block3_1_bn[0][0]          \n",
            "__________________________________________________________________________________________________\n",
            "conv5_block3_2_conv (Conv2D)    (None, None, None, 5 2359808     conv5_block3_1_relu[0][0]        \n",
            "__________________________________________________________________________________________________\n",
            "conv5_block3_2_bn (BatchNormali (None, None, None, 5 2048        conv5_block3_2_conv[0][0]        \n",
            "__________________________________________________________________________________________________\n",
            "conv5_block3_2_relu (Activation (None, None, None, 5 0           conv5_block3_2_bn[0][0]          \n",
            "__________________________________________________________________________________________________\n",
            "conv5_block3_3_conv (Conv2D)    (None, None, None, 2 1050624     conv5_block3_2_relu[0][0]        \n",
            "__________________________________________________________________________________________________\n",
            "conv5_block3_3_bn (BatchNormali (None, None, None, 2 8192        conv5_block3_3_conv[0][0]        \n",
            "__________________________________________________________________________________________________\n",
            "conv5_block3_add (Add)          (None, None, None, 2 0           conv5_block2_out[0][0]           \n",
            "                                                                 conv5_block3_3_bn[0][0]          \n",
            "__________________________________________________________________________________________________\n",
            "conv5_block3_out (Activation)   (None, None, None, 2 0           conv5_block3_add[0][0]           \n",
            "__________________________________________________________________________________________________\n",
            "global_average_pooling2d_1 (Glo (None, 2048)         0           conv5_block3_out[0][0]           \n",
            "__________________________________________________________________________________________________\n",
            "dense_12 (Dense)                (None, 1024)         2098176     global_average_pooling2d_1[0][0] \n",
            "__________________________________________________________________________________________________\n",
            "dense_13 (Dense)                (None, 1)            1025        dense_12[0][0]                   \n",
            "==================================================================================================\n",
            "Total params: 25,686,913\n",
            "Trainable params: 2,099,201\n",
            "Non-trainable params: 23,587,712\n",
            "__________________________________________________________________________________________________\n"
          ],
          "name": "stdout"
        }
      ]
    },
    {
      "cell_type": "code",
      "metadata": {
        "id": "MREKu_nnUs0p",
        "outputId": "f215f43c-11c3-4f61-b65e-79a466e1fb84",
        "colab": {
          "base_uri": "https://localhost:8080/"
        }
      },
      "source": [
        "history = model.fit_generator(train_data_gen,\n",
        "                              epochs=epochs,\n",
        "                              validation_data=val_data_gen)"
      ],
      "execution_count": 66,
      "outputs": [
        {
          "output_type": "stream",
          "text": [
            "Epoch 1/50\n",
            "34/34 [==============================] - 9s 250ms/step - loss: nan - accuracy: 0.5159 - val_loss: nan - val_accuracy: 0.3436\n",
            "Epoch 2/50\n",
            "34/34 [==============================] - 8s 226ms/step - loss: nan - accuracy: 0.5159 - val_loss: nan - val_accuracy: 0.3436\n",
            "Epoch 3/50\n",
            "34/34 [==============================] - 8s 224ms/step - loss: nan - accuracy: 0.5159 - val_loss: nan - val_accuracy: 0.3436\n",
            "Epoch 4/50\n",
            "34/34 [==============================] - 8s 224ms/step - loss: nan - accuracy: 0.5159 - val_loss: nan - val_accuracy: 0.3436\n",
            "Epoch 5/50\n",
            "34/34 [==============================] - 8s 224ms/step - loss: nan - accuracy: 0.5159 - val_loss: nan - val_accuracy: 0.3436\n",
            "Epoch 6/50\n",
            "34/34 [==============================] - 8s 223ms/step - loss: nan - accuracy: 0.5159 - val_loss: nan - val_accuracy: 0.3436\n",
            "Epoch 7/50\n",
            "34/34 [==============================] - 8s 225ms/step - loss: nan - accuracy: 0.5159 - val_loss: nan - val_accuracy: 0.3436\n",
            "Epoch 8/50\n",
            "34/34 [==============================] - 8s 225ms/step - loss: nan - accuracy: 0.5159 - val_loss: nan - val_accuracy: 0.3436\n",
            "Epoch 9/50\n",
            "34/34 [==============================] - 8s 223ms/step - loss: nan - accuracy: 0.5159 - val_loss: nan - val_accuracy: 0.3436\n",
            "Epoch 10/50\n",
            "34/34 [==============================] - 8s 222ms/step - loss: nan - accuracy: 0.5159 - val_loss: nan - val_accuracy: 0.3436\n",
            "Epoch 11/50\n",
            "34/34 [==============================] - 8s 224ms/step - loss: nan - accuracy: 0.5159 - val_loss: nan - val_accuracy: 0.3436\n",
            "Epoch 12/50\n",
            "34/34 [==============================] - 8s 221ms/step - loss: nan - accuracy: 0.5159 - val_loss: nan - val_accuracy: 0.3436\n",
            "Epoch 13/50\n",
            "34/34 [==============================] - 7s 220ms/step - loss: nan - accuracy: 0.5159 - val_loss: nan - val_accuracy: 0.3436\n",
            "Epoch 14/50\n",
            "34/34 [==============================] - 7s 219ms/step - loss: nan - accuracy: 0.5159 - val_loss: nan - val_accuracy: 0.3436\n",
            "Epoch 15/50\n",
            "34/34 [==============================] - 7s 220ms/step - loss: nan - accuracy: 0.5159 - val_loss: nan - val_accuracy: 0.3436\n",
            "Epoch 16/50\n",
            "34/34 [==============================] - 8s 228ms/step - loss: nan - accuracy: 0.5159 - val_loss: nan - val_accuracy: 0.3436\n",
            "Epoch 17/50\n",
            "34/34 [==============================] - 8s 223ms/step - loss: nan - accuracy: 0.5159 - val_loss: nan - val_accuracy: 0.3436\n",
            "Epoch 18/50\n",
            "34/34 [==============================] - 8s 223ms/step - loss: nan - accuracy: 0.5159 - val_loss: nan - val_accuracy: 0.3436\n",
            "Epoch 19/50\n",
            "34/34 [==============================] - 8s 224ms/step - loss: nan - accuracy: 0.5159 - val_loss: nan - val_accuracy: 0.3436\n",
            "Epoch 20/50\n",
            "34/34 [==============================] - 8s 221ms/step - loss: nan - accuracy: 0.5159 - val_loss: nan - val_accuracy: 0.3436\n",
            "Epoch 21/50\n",
            "34/34 [==============================] - 8s 221ms/step - loss: nan - accuracy: 0.5159 - val_loss: nan - val_accuracy: 0.3436\n",
            "Epoch 22/50\n",
            "34/34 [==============================] - 7s 220ms/step - loss: nan - accuracy: 0.5159 - val_loss: nan - val_accuracy: 0.3436\n",
            "Epoch 23/50\n",
            "34/34 [==============================] - 8s 222ms/step - loss: nan - accuracy: 0.5159 - val_loss: nan - val_accuracy: 0.3436\n",
            "Epoch 24/50\n",
            "34/34 [==============================] - 7s 220ms/step - loss: nan - accuracy: 0.5159 - val_loss: nan - val_accuracy: 0.3436\n",
            "Epoch 25/50\n",
            "34/34 [==============================] - 8s 221ms/step - loss: nan - accuracy: 0.5159 - val_loss: nan - val_accuracy: 0.3436\n",
            "Epoch 26/50\n",
            "34/34 [==============================] - 8s 221ms/step - loss: nan - accuracy: 0.5159 - val_loss: nan - val_accuracy: 0.3436\n",
            "Epoch 27/50\n",
            "34/34 [==============================] - 8s 221ms/step - loss: nan - accuracy: 0.5159 - val_loss: nan - val_accuracy: 0.3436\n",
            "Epoch 28/50\n",
            "34/34 [==============================] - 7s 220ms/step - loss: nan - accuracy: 0.5159 - val_loss: nan - val_accuracy: 0.3436\n",
            "Epoch 29/50\n",
            "34/34 [==============================] - 8s 221ms/step - loss: nan - accuracy: 0.5159 - val_loss: nan - val_accuracy: 0.3436\n",
            "Epoch 30/50\n",
            "34/34 [==============================] - 7s 219ms/step - loss: nan - accuracy: 0.5159 - val_loss: nan - val_accuracy: 0.3436\n",
            "Epoch 31/50\n",
            "34/34 [==============================] - 7s 219ms/step - loss: nan - accuracy: 0.5159 - val_loss: nan - val_accuracy: 0.3436\n",
            "Epoch 32/50\n",
            "34/34 [==============================] - 7s 219ms/step - loss: nan - accuracy: 0.5159 - val_loss: nan - val_accuracy: 0.3436\n",
            "Epoch 33/50\n",
            "34/34 [==============================] - 7s 218ms/step - loss: nan - accuracy: 0.5159 - val_loss: nan - val_accuracy: 0.3436\n",
            "Epoch 34/50\n",
            "34/34 [==============================] - 7s 219ms/step - loss: nan - accuracy: 0.5159 - val_loss: nan - val_accuracy: 0.3436\n",
            "Epoch 35/50\n",
            "34/34 [==============================] - 7s 219ms/step - loss: nan - accuracy: 0.5159 - val_loss: nan - val_accuracy: 0.3436\n",
            "Epoch 36/50\n",
            "34/34 [==============================] - 8s 224ms/step - loss: nan - accuracy: 0.5159 - val_loss: nan - val_accuracy: 0.3436\n",
            "Epoch 37/50\n",
            "34/34 [==============================] - 8s 226ms/step - loss: nan - accuracy: 0.5159 - val_loss: nan - val_accuracy: 0.3436\n",
            "Epoch 38/50\n",
            "34/34 [==============================] - 7s 219ms/step - loss: nan - accuracy: 0.5159 - val_loss: nan - val_accuracy: 0.3436\n",
            "Epoch 39/50\n",
            "34/34 [==============================] - 8s 221ms/step - loss: nan - accuracy: 0.5159 - val_loss: nan - val_accuracy: 0.3436\n",
            "Epoch 40/50\n",
            "34/34 [==============================] - 8s 222ms/step - loss: nan - accuracy: 0.5159 - val_loss: nan - val_accuracy: 0.3436\n",
            "Epoch 41/50\n",
            "34/34 [==============================] - 8s 222ms/step - loss: nan - accuracy: 0.5159 - val_loss: nan - val_accuracy: 0.3436\n",
            "Epoch 42/50\n",
            "34/34 [==============================] - 7s 219ms/step - loss: nan - accuracy: 0.5159 - val_loss: nan - val_accuracy: 0.3436\n",
            "Epoch 43/50\n",
            "34/34 [==============================] - 7s 219ms/step - loss: nan - accuracy: 0.5159 - val_loss: nan - val_accuracy: 0.3436\n",
            "Epoch 44/50\n",
            "34/34 [==============================] - 7s 218ms/step - loss: nan - accuracy: 0.5159 - val_loss: nan - val_accuracy: 0.3436\n",
            "Epoch 45/50\n",
            "34/34 [==============================] - 7s 218ms/step - loss: nan - accuracy: 0.5159 - val_loss: nan - val_accuracy: 0.3436\n",
            "Epoch 46/50\n",
            "34/34 [==============================] - 7s 218ms/step - loss: nan - accuracy: 0.5159 - val_loss: nan - val_accuracy: 0.3436\n",
            "Epoch 47/50\n",
            "34/34 [==============================] - 7s 219ms/step - loss: nan - accuracy: 0.5159 - val_loss: nan - val_accuracy: 0.3436\n",
            "Epoch 48/50\n",
            "34/34 [==============================] - 8s 221ms/step - loss: nan - accuracy: 0.5159 - val_loss: nan - val_accuracy: 0.3436\n",
            "Epoch 49/50\n",
            "34/34 [==============================] - 8s 221ms/step - loss: nan - accuracy: 0.5159 - val_loss: nan - val_accuracy: 0.3436\n",
            "Epoch 50/50\n",
            "34/34 [==============================] - 8s 221ms/step - loss: nan - accuracy: 0.5159 - val_loss: nan - val_accuracy: 0.3436\n"
          ],
          "name": "stdout"
        }
      ]
    },
    {
      "cell_type": "markdown",
      "metadata": {
        "id": "uT3UV3gap9H6"
      },
      "source": [
        "# Resources and Stretch Goals\n",
        "\n",
        "Stretch goals\n",
        "- Enhance your code to use classes/functions and accept terms to search and classes to look for in recognizing the downloaded images (e.g. download images of parties, recognize all that contain balloons)\n",
        "- Check out [other available pretrained networks](https://tfhub.dev), try some and compare\n",
        "- Image recognition/classification is somewhat solved, but *relationships* between entities and describing an image is not - check out some of the extended resources (e.g. [Visual Genome](https://visualgenome.org/)) on the topic\n",
        "- Transfer learning - using images you source yourself, [retrain a classifier](https://www.tensorflow.org/hub/tutorials/image_retraining) with a new category\n",
        "- (Not CNN related) Use [piexif](https://pypi.org/project/piexif/) to check out the metadata of images passed in to your system - see if they're from a national park! (Note - many images lack GPS metadata, so this won't work in most cases, but still cool)\n",
        "\n",
        "Resources\n",
        "- [Deep Residual Learning for Image Recognition](https://arxiv.org/abs/1512.03385) - influential paper (introduced ResNet)\n",
        "- [YOLO: Real-Time Object Detection](https://pjreddie.com/darknet/yolo/) - an influential convolution based object detection system, focused on inference speed (for applications to e.g. self driving vehicles)\n",
        "- [R-CNN, Fast R-CNN, Faster R-CNN, YOLO](https://towardsdatascience.com/r-cnn-fast-r-cnn-faster-r-cnn-yolo-object-detection-algorithms-36d53571365e) - comparison of object detection systems\n",
        "- [Common Objects in Context](http://cocodataset.org/) - a large-scale object detection, segmentation, and captioning dataset\n",
        "- [Visual Genome](https://visualgenome.org/) - a dataset, a knowledge base, an ongoing effort to connect structured image concepts to language"
      ]
    }
  ]
}